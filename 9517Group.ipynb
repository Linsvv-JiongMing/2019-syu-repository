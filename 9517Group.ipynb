{
  "cells": [
    {
      "cell_type": "markdown",
      "metadata": {
        "id": "view-in-github",
        "colab_type": "text"
      },
      "source": [
        "<a href=\"https://colab.research.google.com/github/Linsvv-JiongMing/2019-syu-repository/blob/master/9517Group.ipynb\" target=\"_parent\"><img src=\"https://colab.research.google.com/assets/colab-badge.svg\" alt=\"Open In Colab\"/></a>"
      ]
    },
    {
      "cell_type": "code",
      "execution_count": 60,
      "metadata": {
        "colab": {
          "base_uri": "https://localhost:8080/"
        },
        "id": "lgkWvolZZvU3",
        "outputId": "9c3c8e01-158d-42dd-baf5-729e8157dc7d"
      },
      "outputs": [
        {
          "output_type": "stream",
          "name": "stdout",
          "text": [
            "Drive already mounted at /content/drive; to attempt to forcibly remount, call drive.mount(\"/content/drive\", force_remount=True).\n"
          ]
        }
      ],
      "source": [
        "from google.colab import drive\n",
        "drive.mount('/content/drive')"
      ]
    },
    {
      "cell_type": "code",
      "execution_count": null,
      "metadata": {
        "id": "MMvTKOYga75P"
      },
      "outputs": [],
      "source": [
        "!apt-get install -y git"
      ]
    },
    {
      "cell_type": "code",
      "execution_count": null,
      "metadata": {
        "id": "_7iD0ed9ddJp"
      },
      "outputs": [],
      "source": [
        "!git clone https://github.com/zae-bayern/elpv-dataset.git"
      ]
    },
    {
      "cell_type": "code",
      "execution_count": 61,
      "metadata": {
        "colab": {
          "base_uri": "https://localhost:8080/"
        },
        "id": "-CO9yHQTka3P",
        "outputId": "34079402-338c-4acc-8ec5-066d3aae98eb"
      },
      "outputs": [
        {
          "output_type": "stream",
          "name": "stdout",
          "text": [
            "/content/drive/MyDrive/9517Group/elpv-dataset\n"
          ]
        }
      ],
      "source": [
        "%cd '/content/drive/MyDrive/9517Group/elpv-dataset'"
      ]
    },
    {
      "cell_type": "code",
      "execution_count": null,
      "metadata": {
        "colab": {
          "base_uri": "https://localhost:8080/"
        },
        "id": "fyivh26gb-qr",
        "outputId": "8bca88c4-e670-48e4-8670-110030d854f5"
      },
      "outputs": [
        {
          "output_type": "stream",
          "name": "stdout",
          "text": [
            "doc  images  labels.csv  LICENSE.md  README.md\tutils\n"
          ]
        }
      ],
      "source": [
        "!ls"
      ]
    },
    {
      "cell_type": "code",
      "execution_count": 62,
      "metadata": {
        "id": "Vh2CMtVmtCUI"
      },
      "outputs": [],
      "source": [
        "# KNN\n",
        "from sklearn.neighbors import KNeighborsClassifier\n",
        "\n",
        "# DT\n",
        "from sklearn.datasets import load_iris\n",
        "from sklearn.model_selection import cross_val_score\n",
        "from sklearn.tree import DecisionTreeClassifier\n",
        "\n",
        "# SGD\n",
        "from sklearn.linear_model import SGDClassifier\n",
        "from sklearn.preprocessing import StandardScaler\n",
        "from sklearn.pipeline import make_pipeline\n",
        "\n",
        "# Bayesian\n",
        "from sklearn.naive_bayes import GaussianNB\n",
        "\n",
        "from sklearn.model_selection import train_test_split\n",
        "from sklearn.preprocessing import StandardScaler\n",
        "import numpy as np\n",
        "import matplotlib.pyplot as plt"
      ]
    },
    {
      "cell_type": "code",
      "execution_count": 63,
      "metadata": {
        "id": "LpJIshEVl3FS"
      },
      "outputs": [],
      "source": [
        "from sklearn.metrics import accuracy_score\n",
        "from sklearn.metrics import precision_score\n",
        "from sklearn.metrics import recall_score\n",
        "from sklearn.metrics import f1_score\n",
        "from sklearn.metrics import confusion_matrix\n",
        "import matplotlib.pyplot as plt\n",
        "import seaborn as sns\n",
        "\n",
        "\n",
        "def plot_matrix(name, method):\n",
        "  sns.set()\n",
        "  confusion_mat = method\n",
        "  labels = ['fully', 'possibly', 'likely', 'certainly']\n",
        "  plt.figure(figsize=(7, 4))\n",
        "  sns.heatmap(confusion_mat, annot=True, fmt=\"d\", cmap=\"Blues\",\n",
        "              xticklabels=labels, yticklabels=labels)\n",
        "  plt.xlabel('Predicted')\n",
        "  plt.ylabel('True')\n",
        "  plt.title(f\"{name}\")\n",
        "  plt.show()\n",
        "\n",
        "\n",
        "def evaluate_predic(predic, label, algorithm):\n",
        "  accuracy = accuracy_score(label, predic)\n",
        "  precision = precision_score(label, predic, average='macro')\n",
        "  recall = recall_score(label, predic, average='macro')\n",
        "  f1 = f1_score(label, predic, average='macro')\n",
        "  cm = confusion_matrix(label, predic)\n",
        "  print(f\"{algorithm} Algorithm: Accuracy:{accuracy:.3f}; Precision:{precision:.3f}; Recall:{recall:.3f}; F1-score:{f1:.3f}\")\n",
        "  plot_matrix('Confusion Matrix', cm)\n",
        "\n",
        "\n",
        "def pattern_recog(X_train, X_test, y_train, y_test, algorithm):\n",
        "  if algorithm == 'KNN':\n",
        "    # step 5: Initialise the classifier model\n",
        "    KNN = KNeighborsClassifier()\n",
        "    # step 6: Fit the model to the training data\n",
        "    KNN.fit(X_train, y_train)\n",
        "    # step 7: Use the trained/fitted model to evaluate the testing data\n",
        "    KNNy = KNN.predict(X_test)\n",
        "    evaluate_predic(y_test, KNNy, algorithm)\n",
        "\n",
        "  elif algorithm == 'DT':\n",
        "    # step 5: Initialise the classifier model\n",
        "    DT = DecisionTreeClassifier()\n",
        "    # step 6: Fit the model to the training data\n",
        "    DT.fit(X_train, y_train)\n",
        "    # step 7: Use the trained/fitted model to evaluate the testing data\n",
        "    DTy = DT.predict(X_test)\n",
        "    evaluate_predic(y_test, DTy, algorithm)\n",
        "\n",
        "  elif algorithm == 'SGD':\n",
        "    # step 5: Initialise the classifier model\n",
        "    SGD = SGDClassifier(loss='perceptron', max_iter=250, penalty='l1')\n",
        "    # step 6: Fit the model to the training data\n",
        "    SGD.fit(X_train, y_train)\n",
        "    # step 7: Use the trained/fitted model to evaluate the testing data\n",
        "    SGDy = SGD.predict(X_test)\n",
        "    evaluate_predic(y_test, SGDy, algorithm)\n",
        "  else:\n",
        "    print(\"Please enter another algorithm\")\n"
      ]
    },
    {
      "cell_type": "code",
      "execution_count": 64,
      "metadata": {
        "id": "tUbxpSTvtZRr"
      },
      "outputs": [],
      "source": [
        "from utils.elpv_reader import load_dataset\n",
        "images, probs, types = load_dataset()\n"
      ]
    },
    {
      "cell_type": "code",
      "source": [
        "from collections import Counter\n",
        "print(f\"Total number of images:{len(images)}, probs:{len(probs)}, types:{len(types)}\")\n",
        "\n",
        "print(\"\\n\")\n",
        "\n",
        "unique_probs = set(probs)\n",
        "probs_counts = Counter(probs)\n",
        "print(f\"Unique probabilities:{unique_probs}\")\n",
        "print(\"value\\t number\")\n",
        "for prob, count in sorted(probs_counts.items()):\n",
        "  print(f\"{prob:.1f}\\t {count}\")\n",
        "\n",
        "print(\"\\n\")\n",
        "\n",
        "unique_types = set(types)\n",
        "types_counts = Counter(types)\n",
        "print(f\"Unique types:{unique_types}\")\n",
        "print(\"name\\t number\")\n",
        "for prob, count in sorted(types_counts.items()):\n",
        "  print(f\"{prob:}\\t {count}\")\n",
        "\n"
      ],
      "metadata": {
        "colab": {
          "base_uri": "https://localhost:8080/"
        },
        "id": "8okT2hJ7nluE",
        "outputId": "b48b0e28-48d5-4c8d-a5f0-4db8dd631968"
      },
      "execution_count": null,
      "outputs": [
        {
          "output_type": "stream",
          "name": "stdout",
          "text": [
            "Total number of images:2624, probs:2624, types:2624\n",
            "\n",
            "\n",
            "Unique probabilities:{0.0, 1.0, 0.6666666666666666, 0.3333333333333333}\n",
            "value\t number\n",
            "0.0\t 1508\n",
            "0.3\t 295\n",
            "0.7\t 106\n",
            "1.0\t 715\n",
            "\n",
            "\n",
            "Unique types:{'poly', 'mono'}\n",
            "name\t number\n",
            "mono\t 1074\n",
            "poly\t 1550\n"
          ]
        }
      ]
    },
    {
      "cell_type": "code",
      "execution_count": null,
      "metadata": {
        "id": "kwd5nlCDp-F6"
      },
      "outputs": [],
      "source": [
        "# 1. 数据预处理\n",
        "labels = np.digitize(probs, bins=[0.1, 0.4, 0.7, 1]) - 1  # 将概率转换为0-3之间的整数\n",
        "images_flattened = images.reshape(images.shape[0], -1)  # 将图像数据拉平\n",
        "\n",
        "# 2. 划分训练集和测试集\n",
        "X_train, X_test, y_train, y_test = train_test_split(images_flattened, labels, test_size=0.25, stratify=labels)\n"
      ]
    },
    {
      "cell_type": "code",
      "execution_count": null,
      "metadata": {
        "id": "HEZvgBLmq2FM",
        "colab": {
          "base_uri": "https://localhost:8080/",
          "height": 436
        },
        "outputId": "a4d9e6da-8231-4fb4-9467-5542c7a3516f"
      },
      "outputs": [
        {
          "output_type": "stream",
          "name": "stdout",
          "text": [
            "KNN Algorithm: Accuracy:0.666; Precision:0.412; Recall:0.540; F1-score:0.433\n"
          ]
        },
        {
          "output_type": "display_data",
          "data": {
            "text/plain": [
              "<Figure size 700x400 with 2 Axes>"
            ],
            "image/png": "[encoded data removed]"
          },
          "metadata": {}
        }
      ],
      "source": [
        "pattern_recog(X_train, X_test, y_train, y_test, 'KNN')\n"
      ]
    },
    {
      "cell_type": "code",
      "source": [
        "pattern_recog(X_train, X_test, y_train, y_test, 'DT')\n"
      ],
      "metadata": {
        "id": "XtgfaBzrxc7e",
        "colab": {
          "base_uri": "https://localhost:8080/",
          "height": 436
        },
        "outputId": "12a26261-fe7d-48c8-d7bf-a92f22b63cc8"
      },
      "execution_count": null,
      "outputs": [
        {
          "output_type": "stream",
          "name": "stdout",
          "text": [
            "DT Algorithm: Accuracy:0.556; Precision:0.406; Recall:0.396; F1-score:0.398\n"
          ]
        },
        {
          "output_type": "display_data",
          "data": {
            "text/plain": [
              "<Figure size 700x400 with 2 Axes>"
            ],
            "image/png": "[encoded data removed]"
          },
          "metadata": {}
        }
      ]
    },
    {
      "cell_type": "code",
      "source": [
        "# Getting indices based on types\n",
        "mono_index = [i for i, t in enumerate(types) if t == 'mono']\n",
        "poly_index = [i for i, t in enumerate(types) if t == 'poly']\n",
        "\n",
        "# Fetching images based on indices\n",
        "mono_images = [images[i] for i in mono_index]\n",
        "poly_images = [images[i] for i in poly_index]\n",
        "\n",
        "# Fetching probs values based on indices\n",
        "mono_probs = [probs[i] for i in mono_index]\n",
        "poly_probs = [probs[i] for i in poly_index]\n",
        "\n",
        "# Creating labels based on probs values\n",
        "mono_labels = np.digitize(mono_probs, bins=[0.1, 0.5, 0.8, 1]) - 1\n",
        "poly_labels = np.digitize(poly_probs, bins=[0.1, 0.5, 0.8, 1]) - 1\n",
        "\n",
        "# Flattening images\n",
        "mono_flattened = np.array(mono_images).reshape(len(mono_images), -1)\n",
        "poly_flattened = np.array(poly_images).reshape(len(poly_images), -1)\n",
        "\n",
        "# Splitting data into training and testing set\n",
        "Xmono_train, Xmono_test, ymono_train, ymono_test = train_test_split(mono_flattened, mono_labels, test_size=0.25, stratify=mono_labels)\n",
        "Xpoly_train, Xpoly_test, ypoly_train, ypoly_test = train_test_split(poly_flattened, poly_labels, test_size=0.25, stratify=poly_labels)\n",
        "\n"
      ],
      "metadata": {
        "id": "aINycR24ybRE"
      },
      "execution_count": null,
      "outputs": []
    },
    {
      "cell_type": "code",
      "source": [
        "print(len(Xmono_train))\n",
        "print(len(Xmono_test))\n",
        "print(len(Xpoly_train))\n",
        "print(len(Xpoly_test))"
      ],
      "metadata": {
        "id": "xeNILoUuzvPV",
        "colab": {
          "base_uri": "https://localhost:8080/"
        },
        "outputId": "5cdc74cf-280a-47bc-9306-c8463dc0ebdc"
      },
      "execution_count": null,
      "outputs": [
        {
          "output_type": "stream",
          "name": "stdout",
          "text": [
            "805\n",
            "269\n",
            "1162\n",
            "388\n"
          ]
        }
      ]
    },
    {
      "cell_type": "code",
      "source": [
        "pattern_recog(X_train, Xmono_test, y_train, ymono_test, 'KNN')"
      ],
      "metadata": {
        "colab": {
          "base_uri": "https://localhost:8080/",
          "height": 436
        },
        "id": "o2mRbl9f0LRz",
        "outputId": "81abda5f-0751-4fa0-bcc4-d41ffe547283"
      },
      "execution_count": null,
      "outputs": [
        {
          "output_type": "stream",
          "name": "stdout",
          "text": [
            "KNN Algorithm: Accuracy:0.751; Precision:0.574; Recall:0.715; F1-score:0.619\n"
          ]
        },
        {
          "output_type": "display_data",
          "data": {
            "text/plain": [
              "<Figure size 700x400 with 2 Axes>"
            ],
            "image/png": "[encoded data removed]"
          },
          "metadata": {}
        }
      ]
    },
    {
      "cell_type": "code",
      "source": [
        "pattern_recog(X_train, Xpoly_test, y_train, ypoly_test, 'KNN')"
      ],
      "metadata": {
        "colab": {
          "base_uri": "https://localhost:8080/",
          "height": 491
        },
        "id": "O98v1AR82URx",
        "outputId": "6b3645b4-4447-48e9-c5d0-5bc05f78e863"
      },
      "execution_count": null,
      "outputs": [
        {
          "output_type": "stream",
          "name": "stderr",
          "text": [
            "/usr/local/lib/python3.10/dist-packages/sklearn/metrics/_classification.py:1344: UndefinedMetricWarning: Recall is ill-defined and being set to 0.0 in labels with no true samples. Use `zero_division` parameter to control this behavior.\n",
            "  _warn_prf(average, modifier, msg_start, len(result))\n"
          ]
        },
        {
          "output_type": "stream",
          "name": "stdout",
          "text": [
            "KNN Algorithm: Accuracy:0.722; Precision:0.440; Recall:0.529; F1-score:0.462\n"
          ]
        },
        {
          "output_type": "display_data",
          "data": {
            "text/plain": [
              "<Figure size 700x400 with 2 Axes>"
            ],
            "image/png": "[encoded data removed]"
          },
          "metadata": {}
        }
      ]
    },
    {
      "cell_type": "code",
      "source": [
        "pattern_recog(X_train, Xmono_test, y_train, ymono_test, 'DT')"
      ],
      "metadata": {
        "colab": {
          "base_uri": "https://localhost:8080/",
          "height": 436
        },
        "id": "aW6CyCBBrb8K",
        "outputId": "c778791c-15ab-4600-9cdf-05b75c4a62ef"
      },
      "execution_count": null,
      "outputs": [
        {
          "output_type": "stream",
          "name": "stdout",
          "text": [
            "DT Algorithm: Accuracy:0.885; Precision:0.841; Recall:0.842; F1-score:0.840\n"
          ]
        },
        {
          "output_type": "display_data",
          "data": {
            "text/plain": [
              "<Figure size 700x400 with 2 Axes>"
            ],
            "image/png": "[encoded data removed]"
          },
          "metadata": {}
        }
      ]
    },
    {
      "cell_type": "code",
      "source": [
        "pattern_recog(X_train, Xpoly_test, y_train, ypoly_test, 'DT')"
      ],
      "metadata": {
        "colab": {
          "base_uri": "https://localhost:8080/",
          "height": 436
        },
        "id": "dCIyhyatrcTz",
        "outputId": "2cd11bbe-7745-4be9-e104-6bde9355e6d2"
      },
      "execution_count": null,
      "outputs": [
        {
          "output_type": "stream",
          "name": "stdout",
          "text": [
            "DT Algorithm: Accuracy:0.902; Precision:0.873; Recall:0.834; F1-score:0.851\n"
          ]
        },
        {
          "output_type": "display_data",
          "data": {
            "text/plain": [
              "<Figure size 700x400 with 2 Axes>"
            ],
            "image/png": "[encoded data removed]"
          },
          "metadata": {}
        }
      ]
    },
    {
      "cell_type": "markdown",
      "source": [
        "# **神经网络**"
      ],
      "metadata": {
        "id": "_DKmWFCe4ixW"
      }
    },
    {
      "cell_type": "code",
      "source": [
        "images, probs, types"
      ],
      "metadata": {
        "colab": {
          "base_uri": "https://localhost:8080/"
        },
        "id": "-HdlPCVaA4oj",
        "outputId": "133b9171-0a69-4201-e9d2-b81454eccf71"
      },
      "execution_count": null,
      "outputs": [
        {
          "output_type": "execute_result",
          "data": {
            "text/plain": [
              "(array([[[14, 14, 14, ...,  9,  9,  9],\n",
              "         [15, 15, 15, ..., 10,  9,  9],\n",
              "         [15, 15, 16, ..., 10, 10, 10],\n",
              "         ...,\n",
              "         [29, 29, 29, ..., 19, 18,  4],\n",
              "         [29, 29, 29, ..., 18, 18,  4],\n",
              "         [29, 29, 29, ..., 18, 18,  4]],\n",
              " \n",
              "        [[29, 29, 29, ..., 17, 16,  3],\n",
              "         [29, 29, 29, ..., 17, 16,  3],\n",
              "         [29, 29, 29, ..., 16, 15,  3],\n",
              "         ...,\n",
              "         [21, 22, 21, ..., 12, 12, 11],\n",
              "         [20, 20, 20, ..., 12, 12, 11],\n",
              "         [19, 19, 18, ..., 12, 12, 10]],\n",
              " \n",
              "        [[29, 29, 30, ..., 19, 18,  4],\n",
              "         [29, 30, 30, ..., 19, 18,  4],\n",
              "         [30, 30, 31, ..., 18, 18,  3],\n",
              "         ...,\n",
              "         [35, 35, 35, ..., 21, 12,  0],\n",
              "         [35, 35, 35, ..., 21, 12,  0],\n",
              "         [35, 35, 35, ..., 21, 12,  0]],\n",
              " \n",
              "        ...,\n",
              " \n",
              "        [[66, 65, 62, ..., 62, 62, 62],\n",
              "         [64, 62, 61, ..., 60, 60, 61],\n",
              "         [63, 61, 59, ..., 61, 60, 60],\n",
              "         ...,\n",
              "         [45, 50, 55, ..., 57, 51, 47],\n",
              "         [45, 47, 48, ..., 52, 49, 46],\n",
              "         [43, 43, 44, ..., 48, 46, 44]],\n",
              " \n",
              "        [[64, 65, 64, ..., 68, 69, 67],\n",
              "         [62, 62, 63, ..., 66, 67, 66],\n",
              "         [61, 60, 61, ..., 68, 67, 67],\n",
              "         ...,\n",
              "         [47, 45, 46, ..., 54, 48, 48],\n",
              "         [44, 42, 42, ..., 53, 47, 47],\n",
              "         [44, 41, 41, ..., 51, 46, 46]],\n",
              " \n",
              "        [[67, 68, 66, ..., 64, 64, 63],\n",
              "         [67, 67, 66, ..., 63, 62, 63],\n",
              "         [67, 66, 64, ..., 66, 63, 63],\n",
              "         ...,\n",
              "         [48, 48, 49, ..., 65, 55, 50],\n",
              "         [46, 45, 45, ..., 59, 51, 47],\n",
              "         [44, 43, 42, ..., 51, 47, 45]]], dtype=uint8),\n",
              " array([1., 1., 1., ..., 0., 0., 0.]),\n",
              " array(['mono', 'mono', 'mono', ..., 'poly', 'poly', 'poly'], dtype='<U4'))"
            ]
          },
          "metadata": {},
          "execution_count": 20
        }
      ]
    },
    {
      "cell_type": "code",
      "source": [
        "!pip install tensorflow"
      ],
      "metadata": {
        "colab": {
          "base_uri": "https://localhost:8080/"
        },
        "id": "tbwpsILeXngy",
        "outputId": "80256cbf-d9dc-4f64-a919-d2cc2f76195c"
      },
      "execution_count": null,
      "outputs": [
        {
          "output_type": "stream",
          "name": "stdout",
          "text": [
            "Requirement already satisfied: tensorflow in /usr/local/lib/python3.10/dist-packages (2.14.0)\n",
            "Requirement already satisfied: absl-py>=1.0.0 in /usr/local/lib/python3.10/dist-packages (from tensorflow) (1.4.0)\n",
            "Requirement already satisfied: astunparse>=1.6.0 in /usr/local/lib/python3.10/dist-packages (from tensorflow) (1.6.3)\n",
            "Requirement already satisfied: flatbuffers>=23.5.26 in /usr/local/lib/python3.10/dist-packages (from tensorflow) (23.5.26)\n",
            "Requirement already satisfied: gast!=0.5.0,!=0.5.1,!=0.5.2,>=0.2.1 in /usr/local/lib/python3.10/dist-packages (from tensorflow) (0.5.4)\n",
            "Requirement already satisfied: google-pasta>=0.1.1 in /usr/local/lib/python3.10/dist-packages (from tensorflow) (0.2.0)\n",
            "Requirement already satisfied: h5py>=2.9.0 in /usr/local/lib/python3.10/dist-packages (from tensorflow) (3.9.0)\n",
            "Requirement already satisfied: libclang>=13.0.0 in /usr/local/lib/python3.10/dist-packages (from tensorflow) (16.0.6)\n",
            "Requirement already satisfied: ml-dtypes==0.2.0 in /usr/local/lib/python3.10/dist-packages (from tensorflow) (0.2.0)\n",
            "Requirement already satisfied: numpy>=1.23.5 in /usr/local/lib/python3.10/dist-packages (from tensorflow) (1.23.5)\n",
            "Requirement already satisfied: opt-einsum>=2.3.2 in /usr/local/lib/python3.10/dist-packages (from tensorflow) (3.3.0)\n",
            "Requirement already satisfied: packaging in /usr/local/lib/python3.10/dist-packages (from tensorflow) (23.2)\n",
            "Requirement already satisfied: protobuf!=4.21.0,!=4.21.1,!=4.21.2,!=4.21.3,!=4.21.4,!=4.21.5,<5.0.0dev,>=3.20.3 in /usr/local/lib/python3.10/dist-packages (from tensorflow) (3.20.3)\n",
            "Requirement already satisfied: setuptools in /usr/local/lib/python3.10/dist-packages (from tensorflow) (67.7.2)\n",
            "Requirement already satisfied: six>=1.12.0 in /usr/local/lib/python3.10/dist-packages (from tensorflow) (1.16.0)\n",
            "Requirement already satisfied: termcolor>=1.1.0 in /usr/local/lib/python3.10/dist-packages (from tensorflow) (2.3.0)\n",
            "Requirement already satisfied: typing-extensions>=3.6.6 in /usr/local/lib/python3.10/dist-packages (from tensorflow) (4.5.0)\n",
            "Requirement already satisfied: wrapt<1.15,>=1.11.0 in /usr/local/lib/python3.10/dist-packages (from tensorflow) (1.14.1)\n",
            "Requirement already satisfied: tensorflow-io-gcs-filesystem>=0.23.1 in /usr/local/lib/python3.10/dist-packages (from tensorflow) (0.34.0)\n",
            "Requirement already satisfied: grpcio<2.0,>=1.24.3 in /usr/local/lib/python3.10/dist-packages (from tensorflow) (1.59.0)\n",
            "Requirement already satisfied: tensorboard<2.15,>=2.14 in /usr/local/lib/python3.10/dist-packages (from tensorflow) (2.14.1)\n",
            "Requirement already satisfied: tensorflow-estimator<2.15,>=2.14.0 in /usr/local/lib/python3.10/dist-packages (from tensorflow) (2.14.0)\n",
            "Requirement already satisfied: keras<2.15,>=2.14.0 in /usr/local/lib/python3.10/dist-packages (from tensorflow) (2.14.0)\n",
            "Requirement already satisfied: wheel<1.0,>=0.23.0 in /usr/local/lib/python3.10/dist-packages (from astunparse>=1.6.0->tensorflow) (0.41.2)\n",
            "Requirement already satisfied: google-auth<3,>=1.6.3 in /usr/local/lib/python3.10/dist-packages (from tensorboard<2.15,>=2.14->tensorflow) (2.17.3)\n",
            "Requirement already satisfied: google-auth-oauthlib<1.1,>=0.5 in /usr/local/lib/python3.10/dist-packages (from tensorboard<2.15,>=2.14->tensorflow) (1.0.0)\n",
            "Requirement already satisfied: markdown>=2.6.8 in /usr/local/lib/python3.10/dist-packages (from tensorboard<2.15,>=2.14->tensorflow) (3.5)\n",
            "Requirement already satisfied: requests<3,>=2.21.0 in /usr/local/lib/python3.10/dist-packages (from tensorboard<2.15,>=2.14->tensorflow) (2.31.0)\n",
            "Requirement already satisfied: tensorboard-data-server<0.8.0,>=0.7.0 in /usr/local/lib/python3.10/dist-packages (from tensorboard<2.15,>=2.14->tensorflow) (0.7.2)\n",
            "Requirement already satisfied: werkzeug>=1.0.1 in /usr/local/lib/python3.10/dist-packages (from tensorboard<2.15,>=2.14->tensorflow) (3.0.1)\n",
            "Requirement already satisfied: cachetools<6.0,>=2.0.0 in /usr/local/lib/python3.10/dist-packages (from google-auth<3,>=1.6.3->tensorboard<2.15,>=2.14->tensorflow) (5.3.2)\n",
            "Requirement already satisfied: pyasn1-modules>=0.2.1 in /usr/local/lib/python3.10/dist-packages (from google-auth<3,>=1.6.3->tensorboard<2.15,>=2.14->tensorflow) (0.3.0)\n",
            "Requirement already satisfied: rsa<5,>=3.1.4 in /usr/local/lib/python3.10/dist-packages (from google-auth<3,>=1.6.3->tensorboard<2.15,>=2.14->tensorflow) (4.9)\n",
            "Requirement already satisfied: requests-oauthlib>=0.7.0 in /usr/local/lib/python3.10/dist-packages (from google-auth-oauthlib<1.1,>=0.5->tensorboard<2.15,>=2.14->tensorflow) (1.3.1)\n",
            "Requirement already satisfied: charset-normalizer<4,>=2 in /usr/local/lib/python3.10/dist-packages (from requests<3,>=2.21.0->tensorboard<2.15,>=2.14->tensorflow) (3.3.1)\n",
            "Requirement already satisfied: idna<4,>=2.5 in /usr/local/lib/python3.10/dist-packages (from requests<3,>=2.21.0->tensorboard<2.15,>=2.14->tensorflow) (3.4)\n",
            "Requirement already satisfied: urllib3<3,>=1.21.1 in /usr/local/lib/python3.10/dist-packages (from requests<3,>=2.21.0->tensorboard<2.15,>=2.14->tensorflow) (2.0.7)\n",
            "Requirement already satisfied: certifi>=2017.4.17 in /usr/local/lib/python3.10/dist-packages (from requests<3,>=2.21.0->tensorboard<2.15,>=2.14->tensorflow) (2023.7.22)\n",
            "Requirement already satisfied: MarkupSafe>=2.1.1 in /usr/local/lib/python3.10/dist-packages (from werkzeug>=1.0.1->tensorboard<2.15,>=2.14->tensorflow) (2.1.3)\n",
            "Requirement already satisfied: pyasn1<0.6.0,>=0.4.6 in /usr/local/lib/python3.10/dist-packages (from pyasn1-modules>=0.2.1->google-auth<3,>=1.6.3->tensorboard<2.15,>=2.14->tensorflow) (0.5.0)\n",
            "Requirement already satisfied: oauthlib>=3.0.0 in /usr/local/lib/python3.10/dist-packages (from requests-oauthlib>=0.7.0->google-auth-oauthlib<1.1,>=0.5->tensorboard<2.15,>=2.14->tensorflow) (3.2.2)\n"
          ]
        }
      ]
    },
    {
      "cell_type": "code",
      "source": [
        "from tensorflow.keras.models import Sequential\n",
        "from tensorflow.keras.layers import Conv2D, MaxPooling2D, Flatten, Dense\n",
        "from tensorflow.keras.utils import to_categorical"
      ],
      "metadata": {
        "id": "Rc7GujZYXjTp"
      },
      "execution_count": 65,
      "outputs": []
    },
    {
      "cell_type": "code",
      "source": [
        "print(len(images))\n",
        "print(len(probs))\n",
        "print(len(types))"
      ],
      "metadata": {
        "colab": {
          "base_uri": "https://localhost:8080/"
        },
        "id": "hx-hgBUoIl9V",
        "outputId": "af887dd4-8baa-4239-ef85-bc4279a70961"
      },
      "execution_count": 66,
      "outputs": [
        {
          "output_type": "stream",
          "name": "stdout",
          "text": [
            "2624\n",
            "2624\n",
            "2624\n"
          ]
        }
      ]
    },
    {
      "cell_type": "code",
      "source": [
        "# 1. base初始化环境\n",
        "import numpy as np\n",
        "import cv2\n",
        "import pandas as pd\n",
        "from PIL import Image\n",
        "from sklearn.model_selection import train_test_split\n",
        "from keras.utils import to_categorical\n",
        "from keras.models import Sequential\n",
        "from keras.layers import Conv2D, MaxPooling2D, Flatten, Dense\n",
        "\n",
        "\n",
        "# 3. 加载标签数据\n",
        "data = pd.read_csv('labels.csv', sep=\" \", header=None)"
      ],
      "metadata": {
        "id": "R0ibcT0E74kC"
      },
      "execution_count": 67,
      "outputs": []
    },
    {
      "cell_type": "code",
      "source": [
        "d = {'images': data.iloc[:, 0], 'probs': data.iloc[:, 2],'types': data.iloc[:, 19]}\n",
        "df = pd.DataFrame(data=d)\n",
        "df"
      ],
      "metadata": {
        "colab": {
          "base_uri": "https://localhost:8080/",
          "height": 423
        },
        "id": "VuC9mJeEKsTk",
        "outputId": "5e55769c-cb0d-48e8-fa22-0892b99d8214"
      },
      "execution_count": 68,
      "outputs": [
        {
          "output_type": "execute_result",
          "data": {
            "text/plain": [
              "                   images  probs types\n",
              "0     images/cell0001.png    1.0  mono\n",
              "1     images/cell0002.png    1.0  mono\n",
              "2     images/cell0003.png    1.0  mono\n",
              "3     images/cell0004.png    0.0  mono\n",
              "4     images/cell0005.png    1.0  mono\n",
              "...                   ...    ...   ...\n",
              "2619  images/cell2620.png    0.0  poly\n",
              "2620  images/cell2621.png    0.0  poly\n",
              "2621  images/cell2622.png    0.0  poly\n",
              "2622  images/cell2623.png    0.0  poly\n",
              "2623  images/cell2624.png    0.0  poly\n",
              "\n",
              "[2624 rows x 3 columns]"
            ],
            "text/html": [
              "\n",
              "  <div id=\"df-6610dce9-4e39-4f1c-ad8c-d073814869bb\" class=\"colab-df-container\">\n",
              "    <div>\n",
              "<style scoped>\n",
              "    .dataframe tbody tr th:only-of-type {\n",
              "        vertical-align: middle;\n",
              "    }\n",
              "\n",
              "    .dataframe tbody tr th {\n",
              "        vertical-align: top;\n",
              "    }\n",
              "\n",
              "    .dataframe thead th {\n",
              "        text-align: right;\n",
              "    }\n",
              "</style>\n",
              "<table border=\"1\" class=\"dataframe\">\n",
              "  <thead>\n",
              "    <tr style=\"text-align: right;\">\n",
              "      <th></th>\n",
              "      <th>images</th>\n",
              "      <th>probs</th>\n",
              "      <th>types</th>\n",
              "    </tr>\n",
              "  </thead>\n",
              "  <tbody>\n",
              "    <tr>\n",
              "      <th>0</th>\n",
              "      <td>images/cell0001.png</td>\n",
              "      <td>1.0</td>\n",
              "      <td>mono</td>\n",
              "    </tr>\n",
              "    <tr>\n",
              "      <th>1</th>\n",
              "      <td>images/cell0002.png</td>\n",
              "      <td>1.0</td>\n",
              "      <td>mono</td>\n",
              "    </tr>\n",
              "    <tr>\n",
              "      <th>2</th>\n",
              "      <td>images/cell0003.png</td>\n",
              "      <td>1.0</td>\n",
              "      <td>mono</td>\n",
              "    </tr>\n",
              "    <tr>\n",
              "      <th>3</th>\n",
              "      <td>images/cell0004.png</td>\n",
              "      <td>0.0</td>\n",
              "      <td>mono</td>\n",
              "    </tr>\n",
              "    <tr>\n",
              "      <th>4</th>\n",
              "      <td>images/cell0005.png</td>\n",
              "      <td>1.0</td>\n",
              "      <td>mono</td>\n",
              "    </tr>\n",
              "    <tr>\n",
              "      <th>...</th>\n",
              "      <td>...</td>\n",
              "      <td>...</td>\n",
              "      <td>...</td>\n",
              "    </tr>\n",
              "    <tr>\n",
              "      <th>2619</th>\n",
              "      <td>images/cell2620.png</td>\n",
              "      <td>0.0</td>\n",
              "      <td>poly</td>\n",
              "    </tr>\n",
              "    <tr>\n",
              "      <th>2620</th>\n",
              "      <td>images/cell2621.png</td>\n",
              "      <td>0.0</td>\n",
              "      <td>poly</td>\n",
              "    </tr>\n",
              "    <tr>\n",
              "      <th>2621</th>\n",
              "      <td>images/cell2622.png</td>\n",
              "      <td>0.0</td>\n",
              "      <td>poly</td>\n",
              "    </tr>\n",
              "    <tr>\n",
              "      <th>2622</th>\n",
              "      <td>images/cell2623.png</td>\n",
              "      <td>0.0</td>\n",
              "      <td>poly</td>\n",
              "    </tr>\n",
              "    <tr>\n",
              "      <th>2623</th>\n",
              "      <td>images/cell2624.png</td>\n",
              "      <td>0.0</td>\n",
              "      <td>poly</td>\n",
              "    </tr>\n",
              "  </tbody>\n",
              "</table>\n",
              "<p>2624 rows × 3 columns</p>\n",
              "</div>\n",
              "    <div class=\"colab-df-buttons\">\n",
              "\n",
              "  <div class=\"colab-df-container\">\n",
              "    <button class=\"colab-df-convert\" onclick=\"convertToInteractive('df-6610dce9-4e39-4f1c-ad8c-d073814869bb')\"\n",
              "            title=\"Convert this dataframe to an interactive table.\"\n",
              "            style=\"display:none;\">\n",
              "\n",
              "  <svg xmlns=\"http://www.w3.org/2000/svg\" height=\"24px\" viewBox=\"0 -960 960 960\">\n",
              "    <path d=\"M120-120v-720h720v720H120Zm60-500h600v-160H180v160Zm220 220h160v-160H400v160Zm0 220h160v-160H400v160ZM180-400h160v-160H180v160Zm440 0h160v-160H620v160ZM180-180h160v-160H180v160Zm440 0h160v-160H620v160Z\"/>\n",
              "  </svg>\n",
              "    </button>\n",
              "\n",
              "  <style>\n",
              "    .colab-df-container {\n",
              "      display:flex;\n",
              "      gap: 12px;\n",
              "    }\n",
              "\n",
              "    .colab-df-convert {\n",
              "      background-color: #E8F0FE;\n",
              "      border: none;\n",
              "      border-radius: 50%;\n",
              "      cursor: pointer;\n",
              "      display: none;\n",
              "      fill: #1967D2;\n",
              "      height: 32px;\n",
              "      padding: 0 0 0 0;\n",
              "      width: 32px;\n",
              "    }\n",
              "\n",
              "    .colab-df-convert:hover {\n",
              "      background-color: #E2EBFA;\n",
              "      box-shadow: 0px 1px 2px rgba(60, 64, 67, 0.3), 0px 1px 3px 1px rgba(60, 64, 67, 0.15);\n",
              "      fill: #174EA6;\n",
              "    }\n",
              "\n",
              "    .colab-df-buttons div {\n",
              "      margin-bottom: 4px;\n",
              "    }\n",
              "\n",
              "    [theme=dark] .colab-df-convert {\n",
              "      background-color: #3B4455;\n",
              "      fill: #D2E3FC;\n",
              "    }\n",
              "\n",
              "    [theme=dark] .colab-df-convert:hover {\n",
              "      background-color: #434B5C;\n",
              "      box-shadow: 0px 1px 3px 1px rgba(0, 0, 0, 0.15);\n",
              "      filter: drop-shadow(0px 1px 2px rgba(0, 0, 0, 0.3));\n",
              "      fill: #FFFFFF;\n",
              "    }\n",
              "  </style>\n",
              "\n",
              "    <script>\n",
              "      const buttonEl =\n",
              "        document.querySelector('#df-6610dce9-4e39-4f1c-ad8c-d073814869bb button.colab-df-convert');\n",
              "      buttonEl.style.display =\n",
              "        google.colab.kernel.accessAllowed ? 'block' : 'none';\n",
              "\n",
              "      async function convertToInteractive(key) {\n",
              "        const element = document.querySelector('#df-6610dce9-4e39-4f1c-ad8c-d073814869bb');\n",
              "        const dataTable =\n",
              "          await google.colab.kernel.invokeFunction('convertToInteractive',\n",
              "                                                    [key], {});\n",
              "        if (!dataTable) return;\n",
              "\n",
              "        const docLinkHtml = 'Like what you see? Visit the ' +\n",
              "          '<a target=\"_blank\" href=https://colab.research.google.com/notebooks/data_table.ipynb>data table notebook</a>'\n",
              "          + ' to learn more about interactive tables.';\n",
              "        element.innerHTML = '';\n",
              "        dataTable['output_type'] = 'display_data';\n",
              "        await google.colab.output.renderOutput(dataTable, element);\n",
              "        const docLink = document.createElement('div');\n",
              "        docLink.innerHTML = docLinkHtml;\n",
              "        element.appendChild(docLink);\n",
              "      }\n",
              "    </script>\n",
              "  </div>\n",
              "\n",
              "\n",
              "<div id=\"df-482bfa55-9493-4bfa-8e7e-ecabbabca3e1\">\n",
              "  <button class=\"colab-df-quickchart\" onclick=\"quickchart('df-482bfa55-9493-4bfa-8e7e-ecabbabca3e1')\"\n",
              "            title=\"Suggest charts.\"\n",
              "            style=\"display:none;\">\n",
              "\n",
              "<svg xmlns=\"http://www.w3.org/2000/svg\" height=\"24px\"viewBox=\"0 0 24 24\"\n",
              "     width=\"24px\">\n",
              "    <g>\n",
              "        <path d=\"M19 3H5c-1.1 0-2 .9-2 2v14c0 1.1.9 2 2 2h14c1.1 0 2-.9 2-2V5c0-1.1-.9-2-2-2zM9 17H7v-7h2v7zm4 0h-2V7h2v10zm4 0h-2v-4h2v4z\"/>\n",
              "    </g>\n",
              "</svg>\n",
              "  </button>\n",
              "\n",
              "<style>\n",
              "  .colab-df-quickchart {\n",
              "      --bg-color: #E8F0FE;\n",
              "      --fill-color: #1967D2;\n",
              "      --hover-bg-color: #E2EBFA;\n",
              "      --hover-fill-color: #174EA6;\n",
              "      --disabled-fill-color: #AAA;\n",
              "      --disabled-bg-color: #DDD;\n",
              "  }\n",
              "\n",
              "  [theme=dark] .colab-df-quickchart {\n",
              "      --bg-color: #3B4455;\n",
              "      --fill-color: #D2E3FC;\n",
              "      --hover-bg-color: #434B5C;\n",
              "      --hover-fill-color: #FFFFFF;\n",
              "      --disabled-bg-color: #3B4455;\n",
              "      --disabled-fill-color: #666;\n",
              "  }\n",
              "\n",
              "  .colab-df-quickchart {\n",
              "    background-color: var(--bg-color);\n",
              "    border: none;\n",
              "    border-radius: 50%;\n",
              "    cursor: pointer;\n",
              "    display: none;\n",
              "    fill: var(--fill-color);\n",
              "    height: 32px;\n",
              "    padding: 0;\n",
              "    width: 32px;\n",
              "  }\n",
              "\n",
              "  .colab-df-quickchart:hover {\n",
              "    background-color: var(--hover-bg-color);\n",
              "    box-shadow: 0 1px 2px rgba(60, 64, 67, 0.3), 0 1px 3px 1px rgba(60, 64, 67, 0.15);\n",
              "    fill: var(--button-hover-fill-color);\n",
              "  }\n",
              "\n",
              "  .colab-df-quickchart-complete:disabled,\n",
              "  .colab-df-quickchart-complete:disabled:hover {\n",
              "    background-color: var(--disabled-bg-color);\n",
              "    fill: var(--disabled-fill-color);\n",
              "    box-shadow: none;\n",
              "  }\n",
              "\n",
              "  .colab-df-spinner {\n",
              "    border: 2px solid var(--fill-color);\n",
              "    border-color: transparent;\n",
              "    border-bottom-color: var(--fill-color);\n",
              "    animation:\n",
              "      spin 1s steps(1) infinite;\n",
              "  }\n",
              "\n",
              "  @keyframes spin {\n",
              "    0% {\n",
              "      border-color: transparent;\n",
              "      border-bottom-color: var(--fill-color);\n",
              "      border-left-color: var(--fill-color);\n",
              "    }\n",
              "    20% {\n",
              "      border-color: transparent;\n",
              "      border-left-color: var(--fill-color);\n",
              "      border-top-color: var(--fill-color);\n",
              "    }\n",
              "    30% {\n",
              "      border-color: transparent;\n",
              "      border-left-color: var(--fill-color);\n",
              "      border-top-color: var(--fill-color);\n",
              "      border-right-color: var(--fill-color);\n",
              "    }\n",
              "    40% {\n",
              "      border-color: transparent;\n",
              "      border-right-color: var(--fill-color);\n",
              "      border-top-color: var(--fill-color);\n",
              "    }\n",
              "    60% {\n",
              "      border-color: transparent;\n",
              "      border-right-color: var(--fill-color);\n",
              "    }\n",
              "    80% {\n",
              "      border-color: transparent;\n",
              "      border-right-color: var(--fill-color);\n",
              "      border-bottom-color: var(--fill-color);\n",
              "    }\n",
              "    90% {\n",
              "      border-color: transparent;\n",
              "      border-bottom-color: var(--fill-color);\n",
              "    }\n",
              "  }\n",
              "</style>\n",
              "\n",
              "  <script>\n",
              "    async function quickchart(key) {\n",
              "      const quickchartButtonEl =\n",
              "        document.querySelector('#' + key + ' button');\n",
              "      quickchartButtonEl.disabled = true;  // To prevent multiple clicks.\n",
              "      quickchartButtonEl.classList.add('colab-df-spinner');\n",
              "      try {\n",
              "        const charts = await google.colab.kernel.invokeFunction(\n",
              "            'suggestCharts', [key], {});\n",
              "      } catch (error) {\n",
              "        console.error('Error during call to suggestCharts:', error);\n",
              "      }\n",
              "      quickchartButtonEl.classList.remove('colab-df-spinner');\n",
              "      quickchartButtonEl.classList.add('colab-df-quickchart-complete');\n",
              "    }\n",
              "    (() => {\n",
              "      let quickchartButtonEl =\n",
              "        document.querySelector('#df-482bfa55-9493-4bfa-8e7e-ecabbabca3e1 button');\n",
              "      quickchartButtonEl.style.display =\n",
              "        google.colab.kernel.accessAllowed ? 'block' : 'none';\n",
              "    })();\n",
              "  </script>\n",
              "</div>\n",
              "    </div>\n",
              "  </div>\n"
            ]
          },
          "metadata": {},
          "execution_count": 68
        }
      ]
    },
    {
      "cell_type": "code",
      "source": [
        "# Assuming 'data' is your DataFrame\n",
        "grouped = df.groupby('probs')\n",
        "\n",
        "# This will create a dictionary of DataFrames split by the unique values in 'probs'\n",
        "grouped_images = {k: v for k, v in grouped}\n",
        "\n",
        "# grouped_images[0]\n",
        "# grouped_images[1/3]\n",
        "grouped_images"
      ],
      "metadata": {
        "colab": {
          "base_uri": "https://localhost:8080/"
        },
        "id": "8Y0m0NVsO29L",
        "outputId": "9f563342-785d-404b-a8c2-93ccaff6b98a"
      },
      "execution_count": 69,
      "outputs": [
        {
          "output_type": "execute_result",
          "data": {
            "text/plain": [
              "{0.0:                    images  probs types\n",
              " 3     images/cell0004.png    0.0  mono\n",
              " 8     images/cell0009.png    0.0  mono\n",
              " 10    images/cell0011.png    0.0  mono\n",
              " 59    images/cell0060.png    0.0  mono\n",
              " 60    images/cell0061.png    0.0  poly\n",
              " ...                   ...    ...   ...\n",
              " 2619  images/cell2620.png    0.0  poly\n",
              " 2620  images/cell2621.png    0.0  poly\n",
              " 2621  images/cell2622.png    0.0  poly\n",
              " 2622  images/cell2623.png    0.0  poly\n",
              " 2623  images/cell2624.png    0.0  poly\n",
              " \n",
              " [1508 rows x 3 columns],\n",
              " 0.3333333333333333:                    images     probs types\n",
              " 57    images/cell0058.png  0.333333   NaN\n",
              " 86    images/cell0087.png  0.333333   NaN\n",
              " 92    images/cell0093.png  0.333333   NaN\n",
              " 97    images/cell0098.png  0.333333   NaN\n",
              " 126   images/cell0127.png  0.333333   NaN\n",
              " ...                   ...       ...   ...\n",
              " 2611  images/cell2612.png  0.333333   NaN\n",
              " 2614  images/cell2615.png  0.333333   NaN\n",
              " 2615  images/cell2616.png  0.333333   NaN\n",
              " 2616  images/cell2617.png  0.333333   NaN\n",
              " 2617  images/cell2618.png  0.333333   NaN\n",
              " \n",
              " [295 rows x 3 columns],\n",
              " 0.6666666666666666:                    images     probs types\n",
              " 69    images/cell0070.png  0.666667   NaN\n",
              " 72    images/cell0073.png  0.666667   NaN\n",
              " 188   images/cell0189.png  0.666667   NaN\n",
              " 190   images/cell0191.png  0.666667   NaN\n",
              " 201   images/cell0202.png  0.666667   NaN\n",
              " ...                   ...       ...   ...\n",
              " 2368  images/cell2369.png  0.666667   NaN\n",
              " 2426  images/cell2427.png  0.666667   NaN\n",
              " 2434  images/cell2435.png  0.666667   NaN\n",
              " 2554  images/cell2555.png  0.666667   NaN\n",
              " 2603  images/cell2604.png  0.666667   NaN\n",
              " \n",
              " [106 rows x 3 columns],\n",
              " 1.0:                    images  probs types\n",
              " 0     images/cell0001.png    1.0  mono\n",
              " 1     images/cell0002.png    1.0  mono\n",
              " 2     images/cell0003.png    1.0  mono\n",
              " 4     images/cell0005.png    1.0  mono\n",
              " 5     images/cell0006.png    1.0  mono\n",
              " ...                   ...    ...   ...\n",
              " 2545  images/cell2546.png    1.0  poly\n",
              " 2546  images/cell2547.png    1.0  poly\n",
              " 2547  images/cell2548.png    1.0  poly\n",
              " 2553  images/cell2554.png    1.0  poly\n",
              " 2598  images/cell2599.png    1.0  poly\n",
              " \n",
              " [715 rows x 3 columns]}"
            ]
          },
          "metadata": {},
          "execution_count": 69
        }
      ]
    },
    {
      "cell_type": "code",
      "source": [
        "df['images']"
      ],
      "metadata": {
        "colab": {
          "base_uri": "https://localhost:8080/"
        },
        "id": "j-olWmd1TPRo",
        "outputId": "1e78795b-9741-40ae-a5f3-a3f3ab82a1da"
      },
      "execution_count": null,
      "outputs": [
        {
          "output_type": "execute_result",
          "data": {
            "text/plain": [
              "0       images/cell0001.png\n",
              "1       images/cell0002.png\n",
              "2       images/cell0003.png\n",
              "3       images/cell0004.png\n",
              "4       images/cell0005.png\n",
              "               ...         \n",
              "2619    images/cell2620.png\n",
              "2620    images/cell2621.png\n",
              "2621    images/cell2622.png\n",
              "2622    images/cell2623.png\n",
              "2623    images/cell2624.png\n",
              "Name: images, Length: 2624, dtype: object"
            ]
          },
          "metadata": {},
          "execution_count": 53
        }
      ]
    },
    {
      "cell_type": "code",
      "source": [
        "image_data = []\n",
        "for image_path in df['images']:\n",
        "  image = Image.open(image_path)\n",
        "  image = image.resize((128, 128))  # 假设我们缩放到128x128\n",
        "  image_array = np.array(image)\n",
        "  # 确保图像是三通道的，如果不是，需要转换\n",
        "  if len(image_array.shape) == 2:  # 如果是灰度图像，添加一个通道维度\n",
        "      image_array = np.stack((image_array,)*3, axis=-1)\n",
        "  image_data.append(image_array)\n",
        "\n",
        "image_data = np.array(image_data)\n",
        "\n",
        "print(\"Image data shape:\", image_data.shape)\n",
        "image_data = image_data / 255.0  # 归一化像素值\n",
        "\n",
        "# 类别标签转换为one-hot编码\n",
        "labels = to_categorical(df['probs'], 4)\n",
        "\n",
        "# 划分训练集和验证集\n",
        "Xcnn_train, Xcnn_test, ycnn_train, ycnn_test = train_test_split(image_data, labels, test_size=0.25, random_state=42)\n",
        "\n",
        "# 构建CNN模型\n",
        "model = Sequential([\n",
        "    Conv2D(32, (3, 3), activation='relu', input_shape=(128, 128, 3)),\n",
        "    MaxPooling2D(2, 2),\n",
        "    Conv2D(64, (3, 3), activation='relu'),\n",
        "    MaxPooling2D(2, 2),\n",
        "    Flatten(),\n",
        "    Dense(128, activation='relu'),\n",
        "    Dense(4, activation='softmax')\n",
        "])\n",
        "\n",
        "# 编译模型\n",
        "model.compile(optimizer='adam', loss='categorical_crossentropy', metrics=['accuracy'])\n",
        "\n",
        "# 训练模型\n",
        "model.fit(Xcnn_train, ycnn_train, epochs=7, validation_data=(Xcnn_test, ycnn_test))\n",
        "\n",
        "# 评估模型\n",
        "val_loss, val_accuracy = model.evaluate(Xcnn_test, ycnn_test)\n",
        "print(f'Validation accuracy: {val_accuracy}')"
      ],
      "metadata": {
        "colab": {
          "base_uri": "https://localhost:8080/"
        },
        "id": "hmpKdaWXMcrG",
        "outputId": "29f33dd1-e200-41f3-e380-41e9884d12b1"
      },
      "execution_count": 72,
      "outputs": [
        {
          "output_type": "stream",
          "name": "stdout",
          "text": [
            "Image data shape: (2624, 128, 128, 3)\n",
            "Epoch 1/7\n",
            "62/62 [==============================] - 62s 992ms/step - loss: 0.6719 - accuracy: 0.7063 - val_loss: 0.5017 - val_accuracy: 0.7454\n",
            "Epoch 2/7\n",
            "62/62 [==============================] - 61s 984ms/step - loss: 0.5446 - accuracy: 0.7464 - val_loss: 0.4762 - val_accuracy: 0.7790\n",
            "Epoch 3/7\n",
            "62/62 [==============================] - 63s 1s/step - loss: 0.5176 - accuracy: 0.7561 - val_loss: 0.4604 - val_accuracy: 0.8034\n",
            "Epoch 4/7\n",
            "62/62 [==============================] - 60s 970ms/step - loss: 0.5340 - accuracy: 0.7403 - val_loss: 0.4891 - val_accuracy: 0.7561\n",
            "Epoch 5/7\n",
            "62/62 [==============================] - 58s 941ms/step - loss: 0.4851 - accuracy: 0.7937 - val_loss: 0.4288 - val_accuracy: 0.8034\n",
            "Epoch 6/7\n",
            "62/62 [==============================] - 61s 990ms/step - loss: 0.4482 - accuracy: 0.8064 - val_loss: 0.4157 - val_accuracy: 0.8232\n",
            "Epoch 7/7\n",
            "62/62 [==============================] - 59s 947ms/step - loss: 0.4266 - accuracy: 0.8257 - val_loss: 0.4097 - val_accuracy: 0.8247\n",
            "21/21 [==============================] - 6s 313ms/step - loss: 0.4097 - accuracy: 0.8247\n",
            "Validation accuracy: 0.8246951103210449\n"
          ]
        }
      ]
    },
    {
      "cell_type": "code",
      "source": [],
      "metadata": {
        "id": "Z-F5urP3agiF"
      },
      "execution_count": null,
      "outputs": []
    },
    {
      "cell_type": "code",
      "source": [],
      "metadata": {
        "id": "Tsfo7T2Madjh"
      },
      "execution_count": null,
      "outputs": []
    },
    {
      "cell_type": "code",
      "source": [],
      "metadata": {
        "id": "xC_Fbw8gUjRb"
      },
      "execution_count": null,
      "outputs": []
    },
    {
      "cell_type": "code",
      "source": [],
      "metadata": {
        "id": "0m3Gp_IlUyMp"
      },
      "execution_count": null,
      "outputs": []
    },
    {
      "cell_type": "code",
      "source": [],
      "metadata": {
        "id": "1EDblodqVMGb"
      },
      "execution_count": null,
      "outputs": []
    },
    {
      "cell_type": "code",
      "source": [],
      "metadata": {
        "id": "C-VAESL7VgzK"
      },
      "execution_count": null,
      "outputs": []
    },
    {
      "cell_type": "code",
      "source": [],
      "metadata": {
        "id": "jfJNTAZkVpyG"
      },
      "execution_count": null,
      "outputs": []
    },
    {
      "cell_type": "code",
      "source": [],
      "metadata": {
        "id": "xH6SdGK9V_5G"
      },
      "execution_count": null,
      "outputs": []
    }
  ],
  "metadata": {
    "colab": {
      "provenance": [],
      "authorship_tag": "ABX9TyOUjb9mpaqdJIK1yBqh+ZR6",
      "include_colab_link": true
    },
    "kernelspec": {
      "display_name": "Python 3",
      "name": "python3"
    },
    "language_info": {
      "name": "python"
    }
  },
  "nbformat": 4,
  "nbformat_minor": 0
}